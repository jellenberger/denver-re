{
 "cells": [
  {
   "cell_type": "markdown",
   "metadata": {},
   "source": [
    "## Setup"
   ]
  },
  {
   "cell_type": "code",
   "execution_count": 1,
   "metadata": {},
   "outputs": [],
   "source": [
    "%load_ext autoreload\n",
    "%autoreload 2\n",
    "%matplotlib inline"
   ]
  },
  {
   "cell_type": "code",
   "execution_count": 2,
   "metadata": {},
   "outputs": [],
   "source": [
    "from datetime import date\n",
    "from pathlib import Path\n",
    "\n",
    "from chardet.universaldetector import UniversalDetector\n",
    "import pandas as pd\n",
    "import sqlalchemy as sqla"
   ]
  },
  {
   "cell_type": "code",
   "execution_count": 3,
   "metadata": {},
   "outputs": [],
   "source": [
    "pd.set_option('display.max_columns', 100)\n",
    "pd.set_option('display.max_rows', 100)"
   ]
  },
  {
   "cell_type": "code",
   "execution_count": 4,
   "metadata": {},
   "outputs": [
    {
     "name": "stdout",
     "output_type": "stream",
     "text": [
      "2020-02-19-parcels.csv\n",
      "2020-02-19-parcels.zip\n",
      "2020-02-19-real_property_residential_characteristics.csv\n",
      "2020-02-19-real_property_sales_and_transfers.csv\n",
      "re-denver.sqlite3\n"
     ]
    }
   ],
   "source": [
    "dataroot = Path('../data').resolve()\n",
    "!ls {dataroot}"
   ]
  },
  {
   "cell_type": "code",
   "execution_count": 5,
   "metadata": {},
   "outputs": [],
   "source": [
    "dbeng = sqla.create_engine('sqlite:///' + str(dataroot / 're-denver.sqlite3'))"
   ]
  },
  {
   "cell_type": "markdown",
   "metadata": {},
   "source": [
    "## Sales\n",
    "[Data source page](https://www.denvergov.org/opendata/dataset/city-and-county-of-denver-real-property-sales-and-transfers)"
   ]
  },
  {
   "cell_type": "code",
   "execution_count": 6,
   "metadata": {},
   "outputs": [],
   "source": [
    "sales_csv = dataroot / '2020-02-19-real_property_sales_and_transfers.csv'"
   ]
  },
  {
   "cell_type": "code",
   "execution_count": 7,
   "metadata": {},
   "outputs": [
    {
     "name": "stdout",
     "output_type": "stream",
     "text": [
      "\"SCHEDNUM\",\"RECEPTION_NUM\",\"INSTRUMENT\",\"SALE_YEAR\",\"SALE_MONTHDAY\",\"RECEPTION_DATE\",\"SALE_PRICE\",\"GRANTOR\",\"GRANTEE\",\"CLASS\",\"MKT_CLUS\",\"D_CLASS\",\"D_CLASS_CN\",\"NBHD_1\",\"NBHD_1_CN\",\"PIN\"\n",
      "\"0003100014000\",\"2017095534\",\"WD\",\"2017\",\"0720\",\"20170721\",\"12500000\",\"LNR CPI HIGH POINT LLC\",\"ACM HIGH POINT VI LLC\",\"I\",\"\",\"070\",\"DRY FARM LAND\",\"4\",\"GATEWAY N\",\"163408632\"\n",
      "\"0003100015000\",\"2017095534\",\"WD\",\"2017\",\"0720\",\"20170721\",\"12500000\",\"LNR CPI HIGH POINT LLC\",\"ACM HIGH POINT VI LLC\",\"I\",\"\",\"070\",\"DRY FARM LAND\",\"4\",\"GATEWAY N\",\"163408641\"\n"
     ]
    }
   ],
   "source": [
    "!head -n3 {sales_csv}"
   ]
  },
  {
   "cell_type": "code",
   "execution_count": 8,
   "metadata": {},
   "outputs": [
    {
     "name": "stdout",
     "output_type": "stream",
     "text": [
      "332667 /home/jovyan/data/2020-02-19-real_property_sales_and_transfers.csv\n"
     ]
    }
   ],
   "source": [
    "# get row count; NOTE: count includes header row\n",
    "!wc -l {sales_csv}"
   ]
  },
  {
   "cell_type": "code",
   "execution_count": 9,
   "metadata": {},
   "outputs": [],
   "source": [
    "# read csv; all data types will be strings initially\n",
    "sales_df = pd.read_csv(sales_csv, encoding='iso-8859-1', dtype='str')"
   ]
  },
  {
   "cell_type": "code",
   "execution_count": 10,
   "metadata": {},
   "outputs": [
    {
     "data": {
      "text/plain": [
       "(332666, 16)"
      ]
     },
     "execution_count": 10,
     "metadata": {},
     "output_type": "execute_result"
    }
   ],
   "source": [
    "sales_df.shape"
   ]
  },
  {
   "cell_type": "code",
   "execution_count": 11,
   "metadata": {},
   "outputs": [
    {
     "data": {
      "text/html": [
       "<div>\n",
       "<style scoped>\n",
       "    .dataframe tbody tr th:only-of-type {\n",
       "        vertical-align: middle;\n",
       "    }\n",
       "\n",
       "    .dataframe tbody tr th {\n",
       "        vertical-align: top;\n",
       "    }\n",
       "\n",
       "    .dataframe thead th {\n",
       "        text-align: right;\n",
       "    }\n",
       "</style>\n",
       "<table border=\"1\" class=\"dataframe\">\n",
       "  <thead>\n",
       "    <tr style=\"text-align: right;\">\n",
       "      <th></th>\n",
       "      <th>SCHEDNUM</th>\n",
       "      <th>RECEPTION_NUM</th>\n",
       "      <th>INSTRUMENT</th>\n",
       "      <th>SALE_YEAR</th>\n",
       "      <th>SALE_MONTHDAY</th>\n",
       "      <th>RECEPTION_DATE</th>\n",
       "      <th>SALE_PRICE</th>\n",
       "      <th>GRANTOR</th>\n",
       "      <th>GRANTEE</th>\n",
       "      <th>CLASS</th>\n",
       "      <th>MKT_CLUS</th>\n",
       "      <th>D_CLASS</th>\n",
       "      <th>D_CLASS_CN</th>\n",
       "      <th>NBHD_1</th>\n",
       "      <th>NBHD_1_CN</th>\n",
       "      <th>PIN</th>\n",
       "    </tr>\n",
       "  </thead>\n",
       "  <tbody>\n",
       "    <tr>\n",
       "      <th>0</th>\n",
       "      <td>0003100014000</td>\n",
       "      <td>2017095534</td>\n",
       "      <td>WD</td>\n",
       "      <td>2017</td>\n",
       "      <td>0720</td>\n",
       "      <td>20170721</td>\n",
       "      <td>12500000</td>\n",
       "      <td>LNR CPI HIGH POINT LLC</td>\n",
       "      <td>ACM HIGH POINT VI LLC</td>\n",
       "      <td>I</td>\n",
       "      <td>NaN</td>\n",
       "      <td>070</td>\n",
       "      <td>DRY FARM LAND</td>\n",
       "      <td>4</td>\n",
       "      <td>GATEWAY N</td>\n",
       "      <td>163408632</td>\n",
       "    </tr>\n",
       "    <tr>\n",
       "      <th>1</th>\n",
       "      <td>0003100015000</td>\n",
       "      <td>2017095534</td>\n",
       "      <td>WD</td>\n",
       "      <td>2017</td>\n",
       "      <td>0720</td>\n",
       "      <td>20170721</td>\n",
       "      <td>12500000</td>\n",
       "      <td>LNR CPI HIGH POINT LLC</td>\n",
       "      <td>ACM HIGH POINT VI LLC</td>\n",
       "      <td>I</td>\n",
       "      <td>NaN</td>\n",
       "      <td>070</td>\n",
       "      <td>DRY FARM LAND</td>\n",
       "      <td>4</td>\n",
       "      <td>GATEWAY N</td>\n",
       "      <td>163408641</td>\n",
       "    </tr>\n",
       "    <tr>\n",
       "      <th>2</th>\n",
       "      <td>0003100016000</td>\n",
       "      <td>2017095534</td>\n",
       "      <td>WD</td>\n",
       "      <td>2017</td>\n",
       "      <td>0720</td>\n",
       "      <td>20170721</td>\n",
       "      <td>12500000</td>\n",
       "      <td>LNR CPI HIGH POINT LLC</td>\n",
       "      <td>ACM HIGH POINT VI LLC</td>\n",
       "      <td>I</td>\n",
       "      <td>NaN</td>\n",
       "      <td>070</td>\n",
       "      <td>DRY FARM LAND</td>\n",
       "      <td>4</td>\n",
       "      <td>GATEWAY N</td>\n",
       "      <td>163408659</td>\n",
       "    </tr>\n",
       "  </tbody>\n",
       "</table>\n",
       "</div>"
      ],
      "text/plain": [
       "        SCHEDNUM RECEPTION_NUM INSTRUMENT SALE_YEAR SALE_MONTHDAY  \\\n",
       "0  0003100014000    2017095534         WD      2017          0720   \n",
       "1  0003100015000    2017095534         WD      2017          0720   \n",
       "2  0003100016000    2017095534         WD      2017          0720   \n",
       "\n",
       "  RECEPTION_DATE SALE_PRICE                 GRANTOR                GRANTEE  \\\n",
       "0       20170721   12500000  LNR CPI HIGH POINT LLC  ACM HIGH POINT VI LLC   \n",
       "1       20170721   12500000  LNR CPI HIGH POINT LLC  ACM HIGH POINT VI LLC   \n",
       "2       20170721   12500000  LNR CPI HIGH POINT LLC  ACM HIGH POINT VI LLC   \n",
       "\n",
       "  CLASS MKT_CLUS D_CLASS     D_CLASS_CN NBHD_1  NBHD_1_CN        PIN  \n",
       "0     I      NaN     070  DRY FARM LAND      4  GATEWAY N  163408632  \n",
       "1     I      NaN     070  DRY FARM LAND      4  GATEWAY N  163408641  \n",
       "2     I      NaN     070  DRY FARM LAND      4  GATEWAY N  163408659  "
      ]
     },
     "execution_count": 11,
     "metadata": {},
     "output_type": "execute_result"
    }
   ],
   "source": [
    "sales_df.head(3)"
   ]
  },
  {
   "cell_type": "code",
   "execution_count": 12,
   "metadata": {},
   "outputs": [],
   "source": [
    "# lower case all column names\n",
    "sales_df.columns = map(str.lower, sales_df.columns)"
   ]
  },
  {
   "cell_type": "code",
   "execution_count": 13,
   "metadata": {},
   "outputs": [],
   "source": [
    "# numeric type for numeric columns\n",
    "sales_df.sale_price = pd.to_numeric(sales_df.sale_price)\n",
    "# sales_df.sale_price = sales_df.sale_price.astype(pd.Int64Dtype()) # convert to nullable int"
   ]
  },
  {
   "cell_type": "code",
   "execution_count": 14,
   "metadata": {},
   "outputs": [],
   "source": [
    "# create new datetime columns; underscore to indicate calculated columns\n",
    "sales_df['sale_date_'] = pd.to_datetime(sales_df.sale_year + sales_df.sale_monthday, format='%Y%m%d')\n",
    "sales_df['reception_date_'] = pd.to_datetime(sales_df.reception_date, format='%Y%m%d', errors='coerce')"
   ]
  },
  {
   "cell_type": "code",
   "execution_count": 15,
   "metadata": {
    "scrolled": true
   },
   "outputs": [
    {
     "data": {
      "text/plain": [
       "schednum                   object\n",
       "reception_num              object\n",
       "instrument                 object\n",
       "sale_year                  object\n",
       "sale_monthday              object\n",
       "reception_date             object\n",
       "sale_price                float64\n",
       "grantor                    object\n",
       "grantee                    object\n",
       "class                      object\n",
       "mkt_clus                   object\n",
       "d_class                    object\n",
       "d_class_cn                 object\n",
       "nbhd_1                     object\n",
       "nbhd_1_cn                  object\n",
       "pin                        object\n",
       "sale_date_         datetime64[ns]\n",
       "reception_date_    datetime64[ns]\n",
       "dtype: object"
      ]
     },
     "execution_count": 15,
     "metadata": {},
     "output_type": "execute_result"
    }
   ],
   "source": [
    "sales_df.dtypes"
   ]
  },
  {
   "cell_type": "code",
   "execution_count": 16,
   "metadata": {},
   "outputs": [],
   "source": [
    "# create dtype map for sql table; aim for better match to original types\n",
    "sales_dtypes = {\n",
    "    'sale_price': sqla.types.Integer(),\n",
    "    'sale_date_': sqla.types.Date(),\n",
    "    'reception_date_': sqla.types.Date(),\n",
    "}\n",
    "\n",
    "# write to sql table\n",
    "sales_df.to_sql('sales', dbeng, index=False, if_exists='replace', dtype=sales_dtypes, chunksize=50000)"
   ]
  },
  {
   "cell_type": "code",
   "execution_count": 17,
   "metadata": {},
   "outputs": [
    {
     "data": {
      "text/plain": [
       "(332666,)"
      ]
     },
     "execution_count": 17,
     "metadata": {},
     "output_type": "execute_result"
    }
   ],
   "source": [
    "# compare sql row count with original row count\n",
    "dbeng.execute('select count(*) from sales').fetchone()"
   ]
  },
  {
   "cell_type": "code",
   "execution_count": 18,
   "metadata": {},
   "outputs": [
    {
     "data": {
      "text/plain": [
       "[(0, 'schednum', 'TEXT', 0, None, 0),\n",
       " (1, 'reception_num', 'TEXT', 0, None, 0),\n",
       " (2, 'instrument', 'TEXT', 0, None, 0),\n",
       " (3, 'sale_year', 'TEXT', 0, None, 0),\n",
       " (4, 'sale_monthday', 'TEXT', 0, None, 0),\n",
       " (5, 'reception_date', 'TEXT', 0, None, 0),\n",
       " (6, 'sale_price', 'INTEGER', 0, None, 0),\n",
       " (7, 'grantor', 'TEXT', 0, None, 0),\n",
       " (8, 'grantee', 'TEXT', 0, None, 0),\n",
       " (9, 'class', 'TEXT', 0, None, 0),\n",
       " (10, 'mkt_clus', 'TEXT', 0, None, 0),\n",
       " (11, 'd_class', 'TEXT', 0, None, 0),\n",
       " (12, 'd_class_cn', 'TEXT', 0, None, 0),\n",
       " (13, 'nbhd_1', 'TEXT', 0, None, 0),\n",
       " (14, 'nbhd_1_cn', 'TEXT', 0, None, 0),\n",
       " (15, 'pin', 'TEXT', 0, None, 0),\n",
       " (16, 'sale_date_', 'DATE', 0, None, 0),\n",
       " (17, 'reception_date_', 'DATE', 0, None, 0)]"
      ]
     },
     "execution_count": 18,
     "metadata": {},
     "output_type": "execute_result"
    }
   ],
   "source": [
    "# check sql data types\n",
    "dbeng.execute('pragma table_info(sales)').fetchall() # sqlite-specific"
   ]
  },
  {
   "cell_type": "markdown",
   "metadata": {},
   "source": [
    "## Characteristics\n",
    "[Data source page](https://www.denvergov.org/opendata/dataset/city-and-county-of-denver-real-property-residential-characteristics)"
   ]
  },
  {
   "cell_type": "code",
   "execution_count": 19,
   "metadata": {},
   "outputs": [],
   "source": [
    "chars_csv = dataroot / '2020-02-19-real_property_residential_characteristics.csv'"
   ]
  },
  {
   "cell_type": "code",
   "execution_count": 20,
   "metadata": {},
   "outputs": [
    {
     "name": "stdout",
     "output_type": "stream",
     "text": [
      "\"PIN\",\"SCHEDNUM\",\"CD\",\"OFCARD\",\"OWNER\",\"CO_OWNER\",\"OWNER_NUM\",\"OWNER_DIR\",\"OWNER_ST\",\"OWNER_TYPE\",\"OWNER_APT\",\"OWNER_CITY\",\"OWNER_STATE\",\"OWNER_ZIP\",\"SITE_NBR\",\"SITE_DIR\",\"SITE_NAME\",\"SITE_MODE\",\"SITE_MORE\",\"TAX_DIST\",\"PROP_CLASS\",\"PROPERTY_CLASS\",\"ZONE10\",\"D_CLASS_CN\",\"LAND_SQFT\",\"AREA_ABG\",\"BSMT_AREA\",\"FBSMT_SQFT\",\"GRD_AREA\",\"STORY\",\"STYLE_CN\",\"BED_RMS\",\"FULL_B\",\"HLF_B\",\"CCYRBLT\",\"CCAGE_RM\",\"UNITS\",\"ASMT_APPR_LAND\",\"TOTAL_VALUE\",\"ASDLAND\",\"ASSESS_VALUE\",\"ASMT_TAXABLE\",\"ASMT_EXEMPT_AMT\",\"NBHD_1\",\"NBHD_1_CN\",\"LEGL_DESCRIPTION\"\n",
      "\"160431419\",\"0004100122000\",\"01\",\"01\",\"REITHER,JOHN FAMILY TRUST  \",\"\",\"17675 \",\"E\",\"64TH\",\"AVE\",\"A\",\"DENVER\",\"CO\",\"80249-6409\",\"17675\",\"E\",\"64TH\",\"AVE\",\"\",\"DENVER\",\"1112\",\"Single Family Residential\",\"GTWY        \",\"SINGLE FAMILY\",\"0\",\"1269\",\"1269\",\"634\",\"0\",\"1\",\"ONE-STORY\",\"3\",\"1\",\"1\",\"1956\",\"0\",\"001\",\"0\",\"345000\",\"0\",\"24668\",\"24670\",\"0\",\"4\",\"GATEWAY N\",\"T3 R66 S4 SW/4 E 660FT EXC S   30FT OF SD SEC IMPS ONLY SEE   00041-00-127 FOR AGRI LAND\"\n",
      "\"160431427\",\"0004100123000\",\"01\",\"01\",\"GARRISON,DONALD H  \",\"\",\"17675 \",\"E\",\"64TH\",\"AVE\",\"\",\"DENVER\",\"CO\",\"80249-6409\",\"17675\",\"E\",\"64TH\",\"AVE\",\"\",\"DENVER\",\"1112\",\"Single Family Residential\",\"GTWY        \",\"SINGLE FAMILY\",\"0\",\"1682\",\"0\",\"0\",\"0\",\"1\",\"ONE-STORY\",\"3\",\"1\",\"0\",\"1975\",\"0\",\"001\",\"0\",\"271600\",\"0\",\"19419\",\"19420\",\"0\",\"4\",\"GATEWAY N\",\"T3 R66 S4 SW/4 E 660FT EXC S   30FT OF SD SEC IMPS ONLY SEE   00041-00-127 FOR AGRI LAND\"\n"
     ]
    }
   ],
   "source": [
    "!head -n 3 {chars_csv}"
   ]
  },
  {
   "cell_type": "code",
   "execution_count": 21,
   "metadata": {},
   "outputs": [
    {
     "name": "stdout",
     "output_type": "stream",
     "text": [
      "208501 /home/jovyan/data/2020-02-19-real_property_residential_characteristics.csv\n"
     ]
    }
   ],
   "source": [
    "# get a line count; count includes header row\n",
    "!wc -l {chars_csv}"
   ]
  },
  {
   "cell_type": "code",
   "execution_count": 22,
   "metadata": {},
   "outputs": [],
   "source": [
    "# read csv; all data types will be strings initially\n",
    "chars_df = pd.read_csv(chars_csv, encoding='iso-8859-1', dtype='str')"
   ]
  },
  {
   "cell_type": "code",
   "execution_count": 23,
   "metadata": {},
   "outputs": [
    {
     "data": {
      "text/plain": [
       "(208500, 46)"
      ]
     },
     "execution_count": 23,
     "metadata": {},
     "output_type": "execute_result"
    }
   ],
   "source": [
    "chars_df.shape"
   ]
  },
  {
   "cell_type": "code",
   "execution_count": 24,
   "metadata": {},
   "outputs": [
    {
     "data": {
      "text/html": [
       "<div>\n",
       "<style scoped>\n",
       "    .dataframe tbody tr th:only-of-type {\n",
       "        vertical-align: middle;\n",
       "    }\n",
       "\n",
       "    .dataframe tbody tr th {\n",
       "        vertical-align: top;\n",
       "    }\n",
       "\n",
       "    .dataframe thead th {\n",
       "        text-align: right;\n",
       "    }\n",
       "</style>\n",
       "<table border=\"1\" class=\"dataframe\">\n",
       "  <thead>\n",
       "    <tr style=\"text-align: right;\">\n",
       "      <th></th>\n",
       "      <th>PIN</th>\n",
       "      <th>SCHEDNUM</th>\n",
       "      <th>CD</th>\n",
       "      <th>OFCARD</th>\n",
       "      <th>OWNER</th>\n",
       "      <th>CO_OWNER</th>\n",
       "      <th>OWNER_NUM</th>\n",
       "      <th>OWNER_DIR</th>\n",
       "      <th>OWNER_ST</th>\n",
       "      <th>OWNER_TYPE</th>\n",
       "      <th>OWNER_APT</th>\n",
       "      <th>OWNER_CITY</th>\n",
       "      <th>OWNER_STATE</th>\n",
       "      <th>OWNER_ZIP</th>\n",
       "      <th>SITE_NBR</th>\n",
       "      <th>SITE_DIR</th>\n",
       "      <th>SITE_NAME</th>\n",
       "      <th>SITE_MODE</th>\n",
       "      <th>SITE_MORE</th>\n",
       "      <th>TAX_DIST</th>\n",
       "      <th>PROP_CLASS</th>\n",
       "      <th>PROPERTY_CLASS</th>\n",
       "      <th>ZONE10</th>\n",
       "      <th>D_CLASS_CN</th>\n",
       "      <th>LAND_SQFT</th>\n",
       "      <th>AREA_ABG</th>\n",
       "      <th>BSMT_AREA</th>\n",
       "      <th>FBSMT_SQFT</th>\n",
       "      <th>GRD_AREA</th>\n",
       "      <th>STORY</th>\n",
       "      <th>STYLE_CN</th>\n",
       "      <th>BED_RMS</th>\n",
       "      <th>FULL_B</th>\n",
       "      <th>HLF_B</th>\n",
       "      <th>CCYRBLT</th>\n",
       "      <th>CCAGE_RM</th>\n",
       "      <th>UNITS</th>\n",
       "      <th>ASMT_APPR_LAND</th>\n",
       "      <th>TOTAL_VALUE</th>\n",
       "      <th>ASDLAND</th>\n",
       "      <th>ASSESS_VALUE</th>\n",
       "      <th>ASMT_TAXABLE</th>\n",
       "      <th>ASMT_EXEMPT_AMT</th>\n",
       "      <th>NBHD_1</th>\n",
       "      <th>NBHD_1_CN</th>\n",
       "      <th>LEGL_DESCRIPTION</th>\n",
       "    </tr>\n",
       "  </thead>\n",
       "  <tbody>\n",
       "    <tr>\n",
       "      <th>0</th>\n",
       "      <td>160431419</td>\n",
       "      <td>0004100122000</td>\n",
       "      <td>01</td>\n",
       "      <td>01</td>\n",
       "      <td>REITHER,JOHN FAMILY TRUST</td>\n",
       "      <td>NaN</td>\n",
       "      <td>17675</td>\n",
       "      <td>E</td>\n",
       "      <td>64TH</td>\n",
       "      <td>AVE</td>\n",
       "      <td>A</td>\n",
       "      <td>DENVER</td>\n",
       "      <td>CO</td>\n",
       "      <td>80249-6409</td>\n",
       "      <td>17675</td>\n",
       "      <td>E</td>\n",
       "      <td>64TH</td>\n",
       "      <td>AVE</td>\n",
       "      <td>NaN</td>\n",
       "      <td>DENVER</td>\n",
       "      <td>1112</td>\n",
       "      <td>Single Family Residential</td>\n",
       "      <td>GTWY</td>\n",
       "      <td>SINGLE FAMILY</td>\n",
       "      <td>0</td>\n",
       "      <td>1269</td>\n",
       "      <td>1269</td>\n",
       "      <td>634</td>\n",
       "      <td>0</td>\n",
       "      <td>1</td>\n",
       "      <td>ONE-STORY</td>\n",
       "      <td>3</td>\n",
       "      <td>1</td>\n",
       "      <td>1</td>\n",
       "      <td>1956</td>\n",
       "      <td>0</td>\n",
       "      <td>001</td>\n",
       "      <td>0</td>\n",
       "      <td>345000</td>\n",
       "      <td>0</td>\n",
       "      <td>24668</td>\n",
       "      <td>24670</td>\n",
       "      <td>0</td>\n",
       "      <td>4</td>\n",
       "      <td>GATEWAY N</td>\n",
       "      <td>T3 R66 S4 SW/4 E 660FT EXC S   30FT OF SD SEC ...</td>\n",
       "    </tr>\n",
       "    <tr>\n",
       "      <th>1</th>\n",
       "      <td>160431427</td>\n",
       "      <td>0004100123000</td>\n",
       "      <td>01</td>\n",
       "      <td>01</td>\n",
       "      <td>GARRISON,DONALD H</td>\n",
       "      <td>NaN</td>\n",
       "      <td>17675</td>\n",
       "      <td>E</td>\n",
       "      <td>64TH</td>\n",
       "      <td>AVE</td>\n",
       "      <td>NaN</td>\n",
       "      <td>DENVER</td>\n",
       "      <td>CO</td>\n",
       "      <td>80249-6409</td>\n",
       "      <td>17675</td>\n",
       "      <td>E</td>\n",
       "      <td>64TH</td>\n",
       "      <td>AVE</td>\n",
       "      <td>NaN</td>\n",
       "      <td>DENVER</td>\n",
       "      <td>1112</td>\n",
       "      <td>Single Family Residential</td>\n",
       "      <td>GTWY</td>\n",
       "      <td>SINGLE FAMILY</td>\n",
       "      <td>0</td>\n",
       "      <td>1682</td>\n",
       "      <td>0</td>\n",
       "      <td>0</td>\n",
       "      <td>0</td>\n",
       "      <td>1</td>\n",
       "      <td>ONE-STORY</td>\n",
       "      <td>3</td>\n",
       "      <td>1</td>\n",
       "      <td>0</td>\n",
       "      <td>1975</td>\n",
       "      <td>0</td>\n",
       "      <td>001</td>\n",
       "      <td>0</td>\n",
       "      <td>271600</td>\n",
       "      <td>0</td>\n",
       "      <td>19419</td>\n",
       "      <td>19420</td>\n",
       "      <td>0</td>\n",
       "      <td>4</td>\n",
       "      <td>GATEWAY N</td>\n",
       "      <td>T3 R66 S4 SW/4 E 660FT EXC S   30FT OF SD SEC ...</td>\n",
       "    </tr>\n",
       "    <tr>\n",
       "      <th>2</th>\n",
       "      <td>163087844</td>\n",
       "      <td>0010201002000</td>\n",
       "      <td>01</td>\n",
       "      <td>01</td>\n",
       "      <td>VACHOVSKY FAMILY TRUST</td>\n",
       "      <td>NaN</td>\n",
       "      <td>Post Office BOX</td>\n",
       "      <td>NaN</td>\n",
       "      <td>8274</td>\n",
       "      <td>NaN</td>\n",
       "      <td>NaN</td>\n",
       "      <td>RANCHO SANTA FE</td>\n",
       "      <td>CA</td>\n",
       "      <td>92067</td>\n",
       "      <td>5845</td>\n",
       "      <td>N</td>\n",
       "      <td>BISCAY</td>\n",
       "      <td>ST</td>\n",
       "      <td>NaN</td>\n",
       "      <td>419C</td>\n",
       "      <td>1114</td>\n",
       "      <td>Rowhouses</td>\n",
       "      <td>C-MU-30</td>\n",
       "      <td>ROWHOUSE</td>\n",
       "      <td>2760</td>\n",
       "      <td>1716</td>\n",
       "      <td>0</td>\n",
       "      <td>0</td>\n",
       "      <td>0</td>\n",
       "      <td>2</td>\n",
       "      <td>END UNIT</td>\n",
       "      <td>3</td>\n",
       "      <td>2</td>\n",
       "      <td>1</td>\n",
       "      <td>2003</td>\n",
       "      <td>0</td>\n",
       "      <td>001</td>\n",
       "      <td>48100</td>\n",
       "      <td>281000</td>\n",
       "      <td>3439</td>\n",
       "      <td>20091</td>\n",
       "      <td>20090</td>\n",
       "      <td>0</td>\n",
       "      <td>4</td>\n",
       "      <td>GATEWAY N</td>\n",
       "      <td>FIRST CREEK FLG NO 1 B1 L2</td>\n",
       "    </tr>\n",
       "  </tbody>\n",
       "</table>\n",
       "</div>"
      ],
      "text/plain": [
       "         PIN       SCHEDNUM  CD OFCARD                        OWNER CO_OWNER  \\\n",
       "0  160431419  0004100122000  01     01  REITHER,JOHN FAMILY TRUST        NaN   \n",
       "1  160431427  0004100123000  01     01          GARRISON,DONALD H        NaN   \n",
       "2  163087844  0010201002000  01     01      VACHOVSKY FAMILY TRUST       NaN   \n",
       "\n",
       "         OWNER_NUM OWNER_DIR OWNER_ST OWNER_TYPE OWNER_APT       OWNER_CITY  \\\n",
       "0           17675          E     64TH        AVE         A           DENVER   \n",
       "1           17675          E     64TH        AVE       NaN           DENVER   \n",
       "2  Post Office BOX       NaN     8274        NaN       NaN  RANCHO SANTA FE   \n",
       "\n",
       "  OWNER_STATE   OWNER_ZIP SITE_NBR SITE_DIR SITE_NAME SITE_MODE SITE_MORE  \\\n",
       "0          CO  80249-6409    17675        E      64TH       AVE       NaN   \n",
       "1          CO  80249-6409    17675        E      64TH       AVE       NaN   \n",
       "2          CA       92067     5845        N    BISCAY        ST       NaN   \n",
       "\n",
       "  TAX_DIST PROP_CLASS             PROPERTY_CLASS        ZONE10     D_CLASS_CN  \\\n",
       "0   DENVER       1112  Single Family Residential  GTWY          SINGLE FAMILY   \n",
       "1   DENVER       1112  Single Family Residential  GTWY          SINGLE FAMILY   \n",
       "2     419C       1114                  Rowhouses  C-MU-30            ROWHOUSE   \n",
       "\n",
       "  LAND_SQFT AREA_ABG BSMT_AREA FBSMT_SQFT GRD_AREA STORY   STYLE_CN BED_RMS  \\\n",
       "0         0     1269      1269        634        0     1  ONE-STORY       3   \n",
       "1         0     1682         0          0        0     1  ONE-STORY       3   \n",
       "2      2760     1716         0          0        0     2   END UNIT       3   \n",
       "\n",
       "  FULL_B HLF_B CCYRBLT CCAGE_RM UNITS ASMT_APPR_LAND TOTAL_VALUE ASDLAND  \\\n",
       "0      1     1    1956        0   001              0      345000       0   \n",
       "1      1     0    1975        0   001              0      271600       0   \n",
       "2      2     1    2003        0   001          48100      281000    3439   \n",
       "\n",
       "  ASSESS_VALUE ASMT_TAXABLE ASMT_EXEMPT_AMT NBHD_1  NBHD_1_CN  \\\n",
       "0        24668        24670               0      4  GATEWAY N   \n",
       "1        19419        19420               0      4  GATEWAY N   \n",
       "2        20091        20090               0      4  GATEWAY N   \n",
       "\n",
       "                                    LEGL_DESCRIPTION  \n",
       "0  T3 R66 S4 SW/4 E 660FT EXC S   30FT OF SD SEC ...  \n",
       "1  T3 R66 S4 SW/4 E 660FT EXC S   30FT OF SD SEC ...  \n",
       "2                         FIRST CREEK FLG NO 1 B1 L2  "
      ]
     },
     "execution_count": 24,
     "metadata": {},
     "output_type": "execute_result"
    }
   ],
   "source": [
    "chars_df.head(3)"
   ]
  },
  {
   "cell_type": "code",
   "execution_count": 25,
   "metadata": {},
   "outputs": [],
   "source": [
    "# lower-case column names\n",
    "chars_df.columns = map(str.lower, chars_df.columns)"
   ]
  },
  {
   "cell_type": "code",
   "execution_count": 26,
   "metadata": {},
   "outputs": [],
   "source": [
    "# create list of numeric columns\n",
    "numeric_cols = [\n",
    "    'land_sqft',\n",
    "    'area_abg',\n",
    "    'bsmt_area',\n",
    "    'fbsmt_sqft',\n",
    "    'grd_area',\n",
    "    'story',\n",
    "    'bed_rms',\n",
    "    'full_b',\n",
    "    'hlf_b',\n",
    "    'ccyrblt',\n",
    "    'ccage_rm',\n",
    "    'units',\n",
    "    'asmt_appr_land',\n",
    "    'total_value', \n",
    "    'asdland', \n",
    "    'assess_value',\n",
    "    'asmt_taxable',\n",
    "    'asmt_exempt_amt',\n",
    "    'nbhd_1'\n",
    "]\n",
    "\n",
    "# convert numeric columns to numeric data type\n",
    "for col in numeric_cols:\n",
    "    chars_df[col] = pd.to_numeric(chars_df[col]) # convert to numeric\n",
    "    # chars_df[col] = chars_df[col].astype(pd.Int64Dtype()) # convert to nullable int"
   ]
  },
  {
   "cell_type": "code",
   "execution_count": 27,
   "metadata": {
    "scrolled": true
   },
   "outputs": [
    {
     "data": {
      "text/plain": [
       "pin                  object\n",
       "schednum             object\n",
       "cd                   object\n",
       "ofcard               object\n",
       "owner                object\n",
       "co_owner             object\n",
       "owner_num            object\n",
       "owner_dir            object\n",
       "owner_st             object\n",
       "owner_type           object\n",
       "owner_apt            object\n",
       "owner_city           object\n",
       "owner_state          object\n",
       "owner_zip            object\n",
       "site_nbr             object\n",
       "site_dir             object\n",
       "site_name            object\n",
       "site_mode            object\n",
       "site_more            object\n",
       "tax_dist             object\n",
       "prop_class           object\n",
       "property_class       object\n",
       "zone10               object\n",
       "d_class_cn           object\n",
       "land_sqft           float64\n",
       "area_abg              int64\n",
       "bsmt_area             int64\n",
       "fbsmt_sqft            int64\n",
       "grd_area              int64\n",
       "story                 int64\n",
       "style_cn             object\n",
       "bed_rms               int64\n",
       "full_b              float64\n",
       "hlf_b               float64\n",
       "ccyrblt             float64\n",
       "ccage_rm            float64\n",
       "units                 int64\n",
       "asmt_appr_land        int64\n",
       "total_value           int64\n",
       "asdland               int64\n",
       "assess_value          int64\n",
       "asmt_taxable          int64\n",
       "asmt_exempt_amt       int64\n",
       "nbhd_1                int64\n",
       "nbhd_1_cn            object\n",
       "legl_description     object\n",
       "dtype: object"
      ]
     },
     "execution_count": 27,
     "metadata": {},
     "output_type": "execute_result"
    }
   ],
   "source": [
    "chars_df.dtypes"
   ]
  },
  {
   "cell_type": "code",
   "execution_count": 28,
   "metadata": {},
   "outputs": [],
   "source": [
    "# create map of appropriate dtypes for sql table; aim for better match to original types\n",
    "chars_dtypes = { col: sqla.types.Integer() for col in numeric_cols}\n",
    "\n",
    "# write to sql\n",
    "chars_df.to_sql('chars', dbeng, index=False, if_exists='replace', dtype=chars_dtypes, chunksize=50000)"
   ]
  },
  {
   "cell_type": "code",
   "execution_count": 29,
   "metadata": {},
   "outputs": [
    {
     "data": {
      "text/plain": [
       "(208500,)"
      ]
     },
     "execution_count": 29,
     "metadata": {},
     "output_type": "execute_result"
    }
   ],
   "source": [
    "# get row count from sql\n",
    "dbeng.execute('select count(*) from chars').fetchone()"
   ]
  },
  {
   "cell_type": "code",
   "execution_count": 30,
   "metadata": {},
   "outputs": [
    {
     "data": {
      "text/plain": [
       "[(0, 'pin', 'TEXT', 0, None, 0),\n",
       " (1, 'schednum', 'TEXT', 0, None, 0),\n",
       " (2, 'cd', 'TEXT', 0, None, 0),\n",
       " (3, 'ofcard', 'TEXT', 0, None, 0),\n",
       " (4, 'owner', 'TEXT', 0, None, 0),\n",
       " (5, 'co_owner', 'TEXT', 0, None, 0),\n",
       " (6, 'owner_num', 'TEXT', 0, None, 0),\n",
       " (7, 'owner_dir', 'TEXT', 0, None, 0),\n",
       " (8, 'owner_st', 'TEXT', 0, None, 0),\n",
       " (9, 'owner_type', 'TEXT', 0, None, 0),\n",
       " (10, 'owner_apt', 'TEXT', 0, None, 0),\n",
       " (11, 'owner_city', 'TEXT', 0, None, 0),\n",
       " (12, 'owner_state', 'TEXT', 0, None, 0),\n",
       " (13, 'owner_zip', 'TEXT', 0, None, 0),\n",
       " (14, 'site_nbr', 'TEXT', 0, None, 0),\n",
       " (15, 'site_dir', 'TEXT', 0, None, 0),\n",
       " (16, 'site_name', 'TEXT', 0, None, 0),\n",
       " (17, 'site_mode', 'TEXT', 0, None, 0),\n",
       " (18, 'site_more', 'TEXT', 0, None, 0),\n",
       " (19, 'tax_dist', 'TEXT', 0, None, 0),\n",
       " (20, 'prop_class', 'TEXT', 0, None, 0),\n",
       " (21, 'property_class', 'TEXT', 0, None, 0),\n",
       " (22, 'zone10', 'TEXT', 0, None, 0),\n",
       " (23, 'd_class_cn', 'TEXT', 0, None, 0),\n",
       " (24, 'land_sqft', 'INTEGER', 0, None, 0),\n",
       " (25, 'area_abg', 'INTEGER', 0, None, 0),\n",
       " (26, 'bsmt_area', 'INTEGER', 0, None, 0),\n",
       " (27, 'fbsmt_sqft', 'INTEGER', 0, None, 0),\n",
       " (28, 'grd_area', 'INTEGER', 0, None, 0),\n",
       " (29, 'story', 'INTEGER', 0, None, 0),\n",
       " (30, 'style_cn', 'TEXT', 0, None, 0),\n",
       " (31, 'bed_rms', 'INTEGER', 0, None, 0),\n",
       " (32, 'full_b', 'INTEGER', 0, None, 0),\n",
       " (33, 'hlf_b', 'INTEGER', 0, None, 0),\n",
       " (34, 'ccyrblt', 'INTEGER', 0, None, 0),\n",
       " (35, 'ccage_rm', 'INTEGER', 0, None, 0),\n",
       " (36, 'units', 'INTEGER', 0, None, 0),\n",
       " (37, 'asmt_appr_land', 'INTEGER', 0, None, 0),\n",
       " (38, 'total_value', 'INTEGER', 0, None, 0),\n",
       " (39, 'asdland', 'INTEGER', 0, None, 0),\n",
       " (40, 'assess_value', 'INTEGER', 0, None, 0),\n",
       " (41, 'asmt_taxable', 'INTEGER', 0, None, 0),\n",
       " (42, 'asmt_exempt_amt', 'INTEGER', 0, None, 0),\n",
       " (43, 'nbhd_1', 'INTEGER', 0, None, 0),\n",
       " (44, 'nbhd_1_cn', 'TEXT', 0, None, 0),\n",
       " (45, 'legl_description', 'TEXT', 0, None, 0)]"
      ]
     },
     "execution_count": 30,
     "metadata": {},
     "output_type": "execute_result"
    }
   ],
   "source": [
    "# get sql \n",
    "dbeng.execute('pragma table_info(chars)').fetchall()"
   ]
  },
  {
   "cell_type": "markdown",
   "metadata": {},
   "source": [
    "## Parcels\n",
    "[source link](https://www.denvergov.org/opendata/dataset/city-and-county-of-denver-parcels)"
   ]
  },
  {
   "cell_type": "code",
   "execution_count": 31,
   "metadata": {},
   "outputs": [],
   "source": [
    "parcels_csv = dataroot / '2020-02-19-parcels.csv'"
   ]
  },
  {
   "cell_type": "code",
   "execution_count": 32,
   "metadata": {
    "scrolled": true
   },
   "outputs": [
    {
     "name": "stdout",
     "output_type": "stream",
     "text": [
      "PIN,SCHEDNUM,MAPNUM,BLKNUM,PARCELNUM,APPENDAGE,PARCEL_SOURCE,SYSTEM_START_DATE,OWNER_NAME,OWNER_ADDRESS_LINE1,OWNER_ADDRESS_LINE2,OWNER_ADDR_NBR_PREFIX,OWNER_ADDR_NBR,OWNER_ADDR_NBR_SUFFIX,OWNER_STR_NAME_PRE_MOD,OWNER_STR_NAME_PRE_DIR,OWNER_STR_NAME_PRE_TYPE,OWNER_STR_NAME,OWNER_STR_NAME_POST_TYPE,OWNER_STR_NAME_POST_DIR,OWNER_STR_NAME_POST_MOD,OWNER_UNIT_TYPE,OWNER_UNIT_IDENT,OWNER_CITY,OWNER_STATE,OWNER_ZIP,SITUS_ADDRESS_ID,SITUS_ADDRESS_LINE1,SITUS_ADDRESS_LINE2,SITUS_CITY,SITUS_STATE,SITUS_ZIP,SITUS_ADDR_NBR,SITUS_ADDR_NBR_SUFFIX,SITUS_STR_NAME_PRE_MOD,SITUS_STR_NAME_PRE_DIR,SITUS_STR_NAME_PRE_TYPE,SITUS_STR_NAME,SITUS_STR_NAME_POST_TYPE,SITUS_STR_NAME_POST_DIR,SITUS_STR_NAME_POST_MOD,SITUS_UNIT_TYPE,SITUS_UNIT_IDENT,TAX_DIST,LAND_VALUE,IMPROVEMENT_VALUE,IMPROVEMENTS,PROP_CLASS,TOTAL_VALUE,LAND,D_CLASS,D_CLASS_CN,DCL12,ACT_ZONE,IMP_AREA,CCYRBLT,ASAL_INSTR,SALE_MONTHDAY,SALE_YEAR,SALE_PRICE,RECEPTION_NUM\n",
      "161001315,0313400005000,03134,00,005,000, ,2010-12-08 00:00:00,PUBLIC SERVICE CO,PO BOX 840,None,None,840,None,None,None,None,PO BOX,None,None,None,None,None,DENVER,CO,80201-0840,None,5401 W CLEAR CREEK DR,None,DENVER,CO,None,5401,None,None,W,None,CLEAR CREEK,DR,None,None,None,None,DENVER,100,0,0,8991,100,3780,099,VCNT LAND,09,S-SU-D      ,0,None,None,None,None,None,None\n",
      "163314930,0017100019000,00171,00,019,000, ,2010-12-08 00:00:00,PARKFIELD II HOMEOWNERS ASSOCIATION,11002 BENTON ST,None,None,11002,None,None,None,None,BENTON,ST,None,None,None,None,WESTMINSTER,CO,80020-3286,231624,5390 N LEWISTON ST,None,DENVER,CO,None,5390,None,None,N,None,LEWISTON,ST,None,None,None,None,DENVER,100,0,0,9199,100,5622,099,VCNT LAND,09,PUD         ,0,None,WD,1229,2010,None,2010153730\n"
     ]
    }
   ],
   "source": [
    "!head -n 3 {parcels_csv}"
   ]
  },
  {
   "cell_type": "code",
   "execution_count": 33,
   "metadata": {},
   "outputs": [
    {
     "name": "stdout",
     "output_type": "stream",
     "text": [
      "232888 /home/jovyan/data/2020-02-19-parcels.csv\n"
     ]
    }
   ],
   "source": [
    "# get a word count\n",
    "!wc -l {parcels_csv}"
   ]
  },
  {
   "cell_type": "code",
   "execution_count": 34,
   "metadata": {},
   "outputs": [],
   "source": [
    "# read csv; initally all colums will be strings\n",
    "parcels_df = pd.read_csv(parcels_csv, encoding='iso-8859-1', dtype='str')"
   ]
  },
  {
   "cell_type": "code",
   "execution_count": 35,
   "metadata": {},
   "outputs": [
    {
     "data": {
      "text/plain": [
       "(232887, 61)"
      ]
     },
     "execution_count": 35,
     "metadata": {},
     "output_type": "execute_result"
    }
   ],
   "source": [
    "parcels_df.shape"
   ]
  },
  {
   "cell_type": "code",
   "execution_count": 36,
   "metadata": {},
   "outputs": [
    {
     "data": {
      "text/html": [
       "<div>\n",
       "<style scoped>\n",
       "    .dataframe tbody tr th:only-of-type {\n",
       "        vertical-align: middle;\n",
       "    }\n",
       "\n",
       "    .dataframe tbody tr th {\n",
       "        vertical-align: top;\n",
       "    }\n",
       "\n",
       "    .dataframe thead th {\n",
       "        text-align: right;\n",
       "    }\n",
       "</style>\n",
       "<table border=\"1\" class=\"dataframe\">\n",
       "  <thead>\n",
       "    <tr style=\"text-align: right;\">\n",
       "      <th></th>\n",
       "      <th>PIN</th>\n",
       "      <th>SCHEDNUM</th>\n",
       "      <th>MAPNUM</th>\n",
       "      <th>BLKNUM</th>\n",
       "      <th>PARCELNUM</th>\n",
       "      <th>APPENDAGE</th>\n",
       "      <th>PARCEL_SOURCE</th>\n",
       "      <th>SYSTEM_START_DATE</th>\n",
       "      <th>OWNER_NAME</th>\n",
       "      <th>OWNER_ADDRESS_LINE1</th>\n",
       "      <th>OWNER_ADDRESS_LINE2</th>\n",
       "      <th>OWNER_ADDR_NBR_PREFIX</th>\n",
       "      <th>OWNER_ADDR_NBR</th>\n",
       "      <th>OWNER_ADDR_NBR_SUFFIX</th>\n",
       "      <th>OWNER_STR_NAME_PRE_MOD</th>\n",
       "      <th>OWNER_STR_NAME_PRE_DIR</th>\n",
       "      <th>OWNER_STR_NAME_PRE_TYPE</th>\n",
       "      <th>OWNER_STR_NAME</th>\n",
       "      <th>OWNER_STR_NAME_POST_TYPE</th>\n",
       "      <th>OWNER_STR_NAME_POST_DIR</th>\n",
       "      <th>OWNER_STR_NAME_POST_MOD</th>\n",
       "      <th>OWNER_UNIT_TYPE</th>\n",
       "      <th>OWNER_UNIT_IDENT</th>\n",
       "      <th>OWNER_CITY</th>\n",
       "      <th>OWNER_STATE</th>\n",
       "      <th>OWNER_ZIP</th>\n",
       "      <th>SITUS_ADDRESS_ID</th>\n",
       "      <th>SITUS_ADDRESS_LINE1</th>\n",
       "      <th>SITUS_ADDRESS_LINE2</th>\n",
       "      <th>SITUS_CITY</th>\n",
       "      <th>SITUS_STATE</th>\n",
       "      <th>SITUS_ZIP</th>\n",
       "      <th>SITUS_ADDR_NBR</th>\n",
       "      <th>SITUS_ADDR_NBR_SUFFIX</th>\n",
       "      <th>SITUS_STR_NAME_PRE_MOD</th>\n",
       "      <th>SITUS_STR_NAME_PRE_DIR</th>\n",
       "      <th>SITUS_STR_NAME_PRE_TYPE</th>\n",
       "      <th>SITUS_STR_NAME</th>\n",
       "      <th>SITUS_STR_NAME_POST_TYPE</th>\n",
       "      <th>SITUS_STR_NAME_POST_DIR</th>\n",
       "      <th>SITUS_STR_NAME_POST_MOD</th>\n",
       "      <th>SITUS_UNIT_TYPE</th>\n",
       "      <th>SITUS_UNIT_IDENT</th>\n",
       "      <th>TAX_DIST</th>\n",
       "      <th>LAND_VALUE</th>\n",
       "      <th>IMPROVEMENT_VALUE</th>\n",
       "      <th>IMPROVEMENTS</th>\n",
       "      <th>PROP_CLASS</th>\n",
       "      <th>TOTAL_VALUE</th>\n",
       "      <th>LAND</th>\n",
       "      <th>D_CLASS</th>\n",
       "      <th>D_CLASS_CN</th>\n",
       "      <th>DCL12</th>\n",
       "      <th>ACT_ZONE</th>\n",
       "      <th>IMP_AREA</th>\n",
       "      <th>CCYRBLT</th>\n",
       "      <th>ASAL_INSTR</th>\n",
       "      <th>SALE_MONTHDAY</th>\n",
       "      <th>SALE_YEAR</th>\n",
       "      <th>SALE_PRICE</th>\n",
       "      <th>RECEPTION_NUM</th>\n",
       "    </tr>\n",
       "  </thead>\n",
       "  <tbody>\n",
       "    <tr>\n",
       "      <th>0</th>\n",
       "      <td>161001315</td>\n",
       "      <td>0313400005000</td>\n",
       "      <td>03134</td>\n",
       "      <td>00</td>\n",
       "      <td>005</td>\n",
       "      <td>000</td>\n",
       "      <td></td>\n",
       "      <td>2010-12-08 00:00:00</td>\n",
       "      <td>PUBLIC SERVICE CO</td>\n",
       "      <td>PO BOX 840</td>\n",
       "      <td>None</td>\n",
       "      <td>None</td>\n",
       "      <td>840</td>\n",
       "      <td>None</td>\n",
       "      <td>None</td>\n",
       "      <td>None</td>\n",
       "      <td>None</td>\n",
       "      <td>PO BOX</td>\n",
       "      <td>None</td>\n",
       "      <td>None</td>\n",
       "      <td>None</td>\n",
       "      <td>None</td>\n",
       "      <td>None</td>\n",
       "      <td>DENVER</td>\n",
       "      <td>CO</td>\n",
       "      <td>80201-0840</td>\n",
       "      <td>None</td>\n",
       "      <td>5401 W CLEAR CREEK DR</td>\n",
       "      <td>None</td>\n",
       "      <td>DENVER</td>\n",
       "      <td>CO</td>\n",
       "      <td>None</td>\n",
       "      <td>5401</td>\n",
       "      <td>None</td>\n",
       "      <td>None</td>\n",
       "      <td>W</td>\n",
       "      <td>None</td>\n",
       "      <td>CLEAR CREEK</td>\n",
       "      <td>DR</td>\n",
       "      <td>None</td>\n",
       "      <td>None</td>\n",
       "      <td>None</td>\n",
       "      <td>None</td>\n",
       "      <td>DENVER</td>\n",
       "      <td>100</td>\n",
       "      <td>0</td>\n",
       "      <td>0</td>\n",
       "      <td>8991</td>\n",
       "      <td>100</td>\n",
       "      <td>3780</td>\n",
       "      <td>099</td>\n",
       "      <td>VCNT LAND</td>\n",
       "      <td>09</td>\n",
       "      <td>S-SU-D</td>\n",
       "      <td>0</td>\n",
       "      <td>None</td>\n",
       "      <td>None</td>\n",
       "      <td>None</td>\n",
       "      <td>None</td>\n",
       "      <td>None</td>\n",
       "      <td>None</td>\n",
       "    </tr>\n",
       "    <tr>\n",
       "      <th>1</th>\n",
       "      <td>163314930</td>\n",
       "      <td>0017100019000</td>\n",
       "      <td>00171</td>\n",
       "      <td>00</td>\n",
       "      <td>019</td>\n",
       "      <td>000</td>\n",
       "      <td></td>\n",
       "      <td>2010-12-08 00:00:00</td>\n",
       "      <td>PARKFIELD II HOMEOWNERS ASSOCIATION</td>\n",
       "      <td>11002 BENTON ST</td>\n",
       "      <td>None</td>\n",
       "      <td>None</td>\n",
       "      <td>11002</td>\n",
       "      <td>None</td>\n",
       "      <td>None</td>\n",
       "      <td>None</td>\n",
       "      <td>None</td>\n",
       "      <td>BENTON</td>\n",
       "      <td>ST</td>\n",
       "      <td>None</td>\n",
       "      <td>None</td>\n",
       "      <td>None</td>\n",
       "      <td>None</td>\n",
       "      <td>WESTMINSTER</td>\n",
       "      <td>CO</td>\n",
       "      <td>80020-3286</td>\n",
       "      <td>231624</td>\n",
       "      <td>5390 N LEWISTON ST</td>\n",
       "      <td>None</td>\n",
       "      <td>DENVER</td>\n",
       "      <td>CO</td>\n",
       "      <td>None</td>\n",
       "      <td>5390</td>\n",
       "      <td>None</td>\n",
       "      <td>None</td>\n",
       "      <td>N</td>\n",
       "      <td>None</td>\n",
       "      <td>LEWISTON</td>\n",
       "      <td>ST</td>\n",
       "      <td>None</td>\n",
       "      <td>None</td>\n",
       "      <td>None</td>\n",
       "      <td>None</td>\n",
       "      <td>DENVER</td>\n",
       "      <td>100</td>\n",
       "      <td>0</td>\n",
       "      <td>0</td>\n",
       "      <td>9199</td>\n",
       "      <td>100</td>\n",
       "      <td>5622</td>\n",
       "      <td>099</td>\n",
       "      <td>VCNT LAND</td>\n",
       "      <td>09</td>\n",
       "      <td>PUD</td>\n",
       "      <td>0</td>\n",
       "      <td>None</td>\n",
       "      <td>WD</td>\n",
       "      <td>1229</td>\n",
       "      <td>2010</td>\n",
       "      <td>None</td>\n",
       "      <td>2010153730</td>\n",
       "    </tr>\n",
       "    <tr>\n",
       "      <th>2</th>\n",
       "      <td>162839350</td>\n",
       "      <td>0220433034000</td>\n",
       "      <td>02204</td>\n",
       "      <td>33</td>\n",
       "      <td>034</td>\n",
       "      <td>000</td>\n",
       "      <td></td>\n",
       "      <td>2010-12-08 00:00:00</td>\n",
       "      <td>CITY &amp; COUNTY OF DENVER</td>\n",
       "      <td>201 W COLFAX AVE DEPT 401</td>\n",
       "      <td>None</td>\n",
       "      <td>None</td>\n",
       "      <td>201</td>\n",
       "      <td>None</td>\n",
       "      <td>None</td>\n",
       "      <td>W</td>\n",
       "      <td>None</td>\n",
       "      <td>COLFAX</td>\n",
       "      <td>AVE</td>\n",
       "      <td>None</td>\n",
       "      <td>None</td>\n",
       "      <td>DEPT</td>\n",
       "      <td>401</td>\n",
       "      <td>DENVER</td>\n",
       "      <td>CO</td>\n",
       "      <td>80211-5330</td>\n",
       "      <td>None</td>\n",
       "      <td>3800 N CLAY ST</td>\n",
       "      <td>None</td>\n",
       "      <td>DENVER</td>\n",
       "      <td>CO</td>\n",
       "      <td>None</td>\n",
       "      <td>3800</td>\n",
       "      <td>None</td>\n",
       "      <td>None</td>\n",
       "      <td>N</td>\n",
       "      <td>None</td>\n",
       "      <td>CLAY</td>\n",
       "      <td>ST</td>\n",
       "      <td>None</td>\n",
       "      <td>None</td>\n",
       "      <td>None</td>\n",
       "      <td>None</td>\n",
       "      <td>DENVER</td>\n",
       "      <td>100</td>\n",
       "      <td>0</td>\n",
       "      <td>0</td>\n",
       "      <td>9139</td>\n",
       "      <td>100</td>\n",
       "      <td>2068</td>\n",
       "      <td>099</td>\n",
       "      <td>VCNT LAND</td>\n",
       "      <td>09</td>\n",
       "      <td>U-SU-C1</td>\n",
       "      <td>0</td>\n",
       "      <td>None</td>\n",
       "      <td>QC</td>\n",
       "      <td>0728</td>\n",
       "      <td>1902</td>\n",
       "      <td>1</td>\n",
       "      <td>0148600175</td>\n",
       "    </tr>\n",
       "  </tbody>\n",
       "</table>\n",
       "</div>"
      ],
      "text/plain": [
       "         PIN       SCHEDNUM MAPNUM BLKNUM PARCELNUM APPENDAGE PARCEL_SOURCE  \\\n",
       "0  161001315  0313400005000  03134     00       005       000                 \n",
       "1  163314930  0017100019000  00171     00       019       000                 \n",
       "2  162839350  0220433034000  02204     33       034       000                 \n",
       "\n",
       "     SYSTEM_START_DATE                           OWNER_NAME  \\\n",
       "0  2010-12-08 00:00:00                    PUBLIC SERVICE CO   \n",
       "1  2010-12-08 00:00:00  PARKFIELD II HOMEOWNERS ASSOCIATION   \n",
       "2  2010-12-08 00:00:00              CITY & COUNTY OF DENVER   \n",
       "\n",
       "         OWNER_ADDRESS_LINE1 OWNER_ADDRESS_LINE2 OWNER_ADDR_NBR_PREFIX  \\\n",
       "0                 PO BOX 840                None                  None   \n",
       "1            11002 BENTON ST                None                  None   \n",
       "2  201 W COLFAX AVE DEPT 401                None                  None   \n",
       "\n",
       "  OWNER_ADDR_NBR OWNER_ADDR_NBR_SUFFIX OWNER_STR_NAME_PRE_MOD  \\\n",
       "0            840                  None                   None   \n",
       "1          11002                  None                   None   \n",
       "2            201                  None                   None   \n",
       "\n",
       "  OWNER_STR_NAME_PRE_DIR OWNER_STR_NAME_PRE_TYPE OWNER_STR_NAME  \\\n",
       "0                   None                    None         PO BOX   \n",
       "1                   None                    None         BENTON   \n",
       "2                      W                    None         COLFAX   \n",
       "\n",
       "  OWNER_STR_NAME_POST_TYPE OWNER_STR_NAME_POST_DIR OWNER_STR_NAME_POST_MOD  \\\n",
       "0                     None                    None                    None   \n",
       "1                       ST                    None                    None   \n",
       "2                      AVE                    None                    None   \n",
       "\n",
       "  OWNER_UNIT_TYPE OWNER_UNIT_IDENT   OWNER_CITY OWNER_STATE   OWNER_ZIP  \\\n",
       "0            None             None       DENVER          CO  80201-0840   \n",
       "1            None             None  WESTMINSTER          CO  80020-3286   \n",
       "2            DEPT              401       DENVER          CO  80211-5330   \n",
       "\n",
       "  SITUS_ADDRESS_ID    SITUS_ADDRESS_LINE1 SITUS_ADDRESS_LINE2 SITUS_CITY  \\\n",
       "0             None  5401 W CLEAR CREEK DR                None     DENVER   \n",
       "1           231624     5390 N LEWISTON ST                None     DENVER   \n",
       "2             None         3800 N CLAY ST                None     DENVER   \n",
       "\n",
       "  SITUS_STATE SITUS_ZIP SITUS_ADDR_NBR SITUS_ADDR_NBR_SUFFIX  \\\n",
       "0          CO      None           5401                  None   \n",
       "1          CO      None           5390                  None   \n",
       "2          CO      None           3800                  None   \n",
       "\n",
       "  SITUS_STR_NAME_PRE_MOD SITUS_STR_NAME_PRE_DIR SITUS_STR_NAME_PRE_TYPE  \\\n",
       "0                   None                      W                    None   \n",
       "1                   None                      N                    None   \n",
       "2                   None                      N                    None   \n",
       "\n",
       "  SITUS_STR_NAME SITUS_STR_NAME_POST_TYPE SITUS_STR_NAME_POST_DIR  \\\n",
       "0    CLEAR CREEK                       DR                    None   \n",
       "1       LEWISTON                       ST                    None   \n",
       "2           CLAY                       ST                    None   \n",
       "\n",
       "  SITUS_STR_NAME_POST_MOD SITUS_UNIT_TYPE SITUS_UNIT_IDENT TAX_DIST  \\\n",
       "0                    None            None             None   DENVER   \n",
       "1                    None            None             None   DENVER   \n",
       "2                    None            None             None   DENVER   \n",
       "\n",
       "  LAND_VALUE IMPROVEMENT_VALUE IMPROVEMENTS PROP_CLASS TOTAL_VALUE  LAND  \\\n",
       "0        100                 0            0       8991         100  3780   \n",
       "1        100                 0            0       9199         100  5622   \n",
       "2        100                 0            0       9139         100  2068   \n",
       "\n",
       "  D_CLASS D_CLASS_CN DCL12      ACT_ZONE IMP_AREA CCYRBLT ASAL_INSTR  \\\n",
       "0     099  VCNT LAND    09  S-SU-D              0    None       None   \n",
       "1     099  VCNT LAND    09  PUD                 0    None         WD   \n",
       "2     099  VCNT LAND    09  U-SU-C1             0    None         QC   \n",
       "\n",
       "  SALE_MONTHDAY SALE_YEAR SALE_PRICE RECEPTION_NUM  \n",
       "0          None      None       None          None  \n",
       "1          1229      2010       None    2010153730  \n",
       "2          0728      1902          1    0148600175  "
      ]
     },
     "execution_count": 36,
     "metadata": {},
     "output_type": "execute_result"
    }
   ],
   "source": [
    "parcels_df.head(3)"
   ]
  },
  {
   "cell_type": "code",
   "execution_count": 37,
   "metadata": {},
   "outputs": [],
   "source": [
    "# lower case coulumn names\n",
    "parcels_df.columns = map(str.lower, parcels_df.columns)"
   ]
  },
  {
   "cell_type": "code",
   "execution_count": 38,
   "metadata": {},
   "outputs": [],
   "source": [
    "# construct list of numeric columns\n",
    "parcels_numeric_cols = [\n",
    "    'total_value',\n",
    "    'land',\n",
    "    'imp_area',\n",
    "    'sale_price'\n",
    "]\n",
    "\n",
    "# convert numeric columns to numeric data type\n",
    "for col in parcels_numeric_cols:\n",
    "    # NOTE: 'coerce' will interpret all non-numeric values as Nan\n",
    "    parcels_df[col] = pd.to_numeric(parcels_df[col], errors='coerce')\n",
    "    # parcels_df[col] = parcels_df[col].astype(pd.Int64Dtype()) # convert to nullable int"
   ]
  },
  {
   "cell_type": "code",
   "execution_count": 39,
   "metadata": {},
   "outputs": [],
   "source": [
    "# create new datetime column for sale date; trailing underscore to indicate calculated column\n",
    "# NOTE: 'coerce' is used here to interpret some garbage values as Nan\n",
    "parcels_df['sale_date_'] = pd.to_datetime(\n",
    "    parcels_df.sale_year + parcels_df.sale_monthday, format='%Y%m%d', errors='coerce'\n",
    ")"
   ]
  },
  {
   "cell_type": "code",
   "execution_count": 40,
   "metadata": {
    "scrolled": true
   },
   "outputs": [
    {
     "data": {
      "text/plain": [
       "pin                                 object\n",
       "schednum                            object\n",
       "mapnum                              object\n",
       "blknum                              object\n",
       "parcelnum                           object\n",
       "appendage                           object\n",
       "parcel_source                       object\n",
       "system_start_date                   object\n",
       "owner_name                          object\n",
       "owner_address_line1                 object\n",
       "owner_address_line2                 object\n",
       "owner_addr_nbr_prefix               object\n",
       "owner_addr_nbr                      object\n",
       "owner_addr_nbr_suffix               object\n",
       "owner_str_name_pre_mod              object\n",
       "owner_str_name_pre_dir              object\n",
       "owner_str_name_pre_type             object\n",
       "owner_str_name                      object\n",
       "owner_str_name_post_type            object\n",
       "owner_str_name_post_dir             object\n",
       "owner_str_name_post_mod             object\n",
       "owner_unit_type                     object\n",
       "owner_unit_ident                    object\n",
       "owner_city                          object\n",
       "owner_state                         object\n",
       "owner_zip                           object\n",
       "situs_address_id                    object\n",
       "situs_address_line1                 object\n",
       "situs_address_line2                 object\n",
       "situs_city                          object\n",
       "situs_state                         object\n",
       "situs_zip                           object\n",
       "situs_addr_nbr                      object\n",
       "situs_addr_nbr_suffix               object\n",
       "situs_str_name_pre_mod              object\n",
       "situs_str_name_pre_dir              object\n",
       "situs_str_name_pre_type             object\n",
       "situs_str_name                      object\n",
       "situs_str_name_post_type            object\n",
       "situs_str_name_post_dir             object\n",
       "situs_str_name_post_mod             object\n",
       "situs_unit_type                     object\n",
       "situs_unit_ident                    object\n",
       "tax_dist                            object\n",
       "land_value                          object\n",
       "improvement_value                   object\n",
       "improvements                        object\n",
       "prop_class                          object\n",
       "total_value                        float64\n",
       "land                               float64\n",
       "d_class                             object\n",
       "d_class_cn                          object\n",
       "dcl12                               object\n",
       "act_zone                            object\n",
       "imp_area                           float64\n",
       "ccyrblt                             object\n",
       "asal_instr                          object\n",
       "sale_monthday                       object\n",
       "sale_year                           object\n",
       "sale_price                         float64\n",
       "reception_num                       object\n",
       "sale_date_                  datetime64[ns]\n",
       "dtype: object"
      ]
     },
     "execution_count": 40,
     "metadata": {},
     "output_type": "execute_result"
    }
   ],
   "source": [
    "parcels_df.dtypes"
   ]
  },
  {
   "cell_type": "code",
   "execution_count": 41,
   "metadata": {},
   "outputs": [],
   "source": [
    "# create map for sql data types; aim for better match to original types\n",
    "parcels_dtypes = { col: sqla.types.Integer() for col in parcels_numeric_cols}\n",
    "parcels_dtypes.update({'sale_date_': sqla.types.Date()})\n",
    "\n",
    "# write to sql\n",
    "parcels_df.to_sql('parcels', dbeng, index=False, if_exists='replace', dtype=parcels_dtypes, chunksize=50000)"
   ]
  },
  {
   "cell_type": "code",
   "execution_count": 42,
   "metadata": {},
   "outputs": [
    {
     "data": {
      "text/plain": [
       "(232887,)"
      ]
     },
     "execution_count": 42,
     "metadata": {},
     "output_type": "execute_result"
    }
   ],
   "source": [
    "# get line count from sql\n",
    "dbeng.execute('select count(*) from parcels;').fetchone()"
   ]
  },
  {
   "cell_type": "code",
   "execution_count": 43,
   "metadata": {},
   "outputs": [
    {
     "data": {
      "text/plain": [
       "[(0, 'pin', 'TEXT', 0, None, 0),\n",
       " (1, 'schednum', 'TEXT', 0, None, 0),\n",
       " (2, 'mapnum', 'TEXT', 0, None, 0),\n",
       " (3, 'blknum', 'TEXT', 0, None, 0),\n",
       " (4, 'parcelnum', 'TEXT', 0, None, 0),\n",
       " (5, 'appendage', 'TEXT', 0, None, 0),\n",
       " (6, 'parcel_source', 'TEXT', 0, None, 0),\n",
       " (7, 'system_start_date', 'TEXT', 0, None, 0),\n",
       " (8, 'owner_name', 'TEXT', 0, None, 0),\n",
       " (9, 'owner_address_line1', 'TEXT', 0, None, 0),\n",
       " (10, 'owner_address_line2', 'TEXT', 0, None, 0),\n",
       " (11, 'owner_addr_nbr_prefix', 'TEXT', 0, None, 0),\n",
       " (12, 'owner_addr_nbr', 'TEXT', 0, None, 0),\n",
       " (13, 'owner_addr_nbr_suffix', 'TEXT', 0, None, 0),\n",
       " (14, 'owner_str_name_pre_mod', 'TEXT', 0, None, 0),\n",
       " (15, 'owner_str_name_pre_dir', 'TEXT', 0, None, 0),\n",
       " (16, 'owner_str_name_pre_type', 'TEXT', 0, None, 0),\n",
       " (17, 'owner_str_name', 'TEXT', 0, None, 0),\n",
       " (18, 'owner_str_name_post_type', 'TEXT', 0, None, 0),\n",
       " (19, 'owner_str_name_post_dir', 'TEXT', 0, None, 0),\n",
       " (20, 'owner_str_name_post_mod', 'TEXT', 0, None, 0),\n",
       " (21, 'owner_unit_type', 'TEXT', 0, None, 0),\n",
       " (22, 'owner_unit_ident', 'TEXT', 0, None, 0),\n",
       " (23, 'owner_city', 'TEXT', 0, None, 0),\n",
       " (24, 'owner_state', 'TEXT', 0, None, 0),\n",
       " (25, 'owner_zip', 'TEXT', 0, None, 0),\n",
       " (26, 'situs_address_id', 'TEXT', 0, None, 0),\n",
       " (27, 'situs_address_line1', 'TEXT', 0, None, 0),\n",
       " (28, 'situs_address_line2', 'TEXT', 0, None, 0),\n",
       " (29, 'situs_city', 'TEXT', 0, None, 0),\n",
       " (30, 'situs_state', 'TEXT', 0, None, 0),\n",
       " (31, 'situs_zip', 'TEXT', 0, None, 0),\n",
       " (32, 'situs_addr_nbr', 'TEXT', 0, None, 0),\n",
       " (33, 'situs_addr_nbr_suffix', 'TEXT', 0, None, 0),\n",
       " (34, 'situs_str_name_pre_mod', 'TEXT', 0, None, 0),\n",
       " (35, 'situs_str_name_pre_dir', 'TEXT', 0, None, 0),\n",
       " (36, 'situs_str_name_pre_type', 'TEXT', 0, None, 0),\n",
       " (37, 'situs_str_name', 'TEXT', 0, None, 0),\n",
       " (38, 'situs_str_name_post_type', 'TEXT', 0, None, 0),\n",
       " (39, 'situs_str_name_post_dir', 'TEXT', 0, None, 0),\n",
       " (40, 'situs_str_name_post_mod', 'TEXT', 0, None, 0),\n",
       " (41, 'situs_unit_type', 'TEXT', 0, None, 0),\n",
       " (42, 'situs_unit_ident', 'TEXT', 0, None, 0),\n",
       " (43, 'tax_dist', 'TEXT', 0, None, 0),\n",
       " (44, 'land_value', 'TEXT', 0, None, 0),\n",
       " (45, 'improvement_value', 'TEXT', 0, None, 0),\n",
       " (46, 'improvements', 'TEXT', 0, None, 0),\n",
       " (47, 'prop_class', 'TEXT', 0, None, 0),\n",
       " (48, 'total_value', 'INTEGER', 0, None, 0),\n",
       " (49, 'land', 'INTEGER', 0, None, 0),\n",
       " (50, 'd_class', 'TEXT', 0, None, 0),\n",
       " (51, 'd_class_cn', 'TEXT', 0, None, 0),\n",
       " (52, 'dcl12', 'TEXT', 0, None, 0),\n",
       " (53, 'act_zone', 'TEXT', 0, None, 0),\n",
       " (54, 'imp_area', 'INTEGER', 0, None, 0),\n",
       " (55, 'ccyrblt', 'TEXT', 0, None, 0),\n",
       " (56, 'asal_instr', 'TEXT', 0, None, 0),\n",
       " (57, 'sale_monthday', 'TEXT', 0, None, 0),\n",
       " (58, 'sale_year', 'TEXT', 0, None, 0),\n",
       " (59, 'sale_price', 'INTEGER', 0, None, 0),\n",
       " (60, 'reception_num', 'TEXT', 0, None, 0),\n",
       " (61, 'sale_date_', 'DATE', 0, None, 0)]"
      ]
     },
     "execution_count": 43,
     "metadata": {},
     "output_type": "execute_result"
    }
   ],
   "source": [
    "# get data types from sql\n",
    "dbeng.execute('pragma table_info(parcels);').fetchall()"
   ]
  },
  {
   "cell_type": "markdown",
   "metadata": {},
   "source": [
    "# Cleanup"
   ]
  },
  {
   "cell_type": "code",
   "execution_count": 44,
   "metadata": {},
   "outputs": [
    {
     "data": {
      "text/plain": [
       "<sqlalchemy.engine.result.ResultProxy at 0x7f7d552fd668>"
      ]
     },
     "execution_count": 44,
     "metadata": {},
     "output_type": "execute_result"
    }
   ],
   "source": [
    "dbeng.execute('vacuum') # compact db"
   ]
  },
  {
   "cell_type": "code",
   "execution_count": null,
   "metadata": {},
   "outputs": [],
   "source": []
  }
 ],
 "metadata": {
  "kernelspec": {
   "display_name": "Python 3",
   "language": "python",
   "name": "python3"
  },
  "language_info": {
   "codemirror_mode": {
    "name": "ipython",
    "version": 3
   },
   "file_extension": ".py",
   "mimetype": "text/x-python",
   "name": "python",
   "nbconvert_exporter": "python",
   "pygments_lexer": "ipython3",
   "version": "3.7.3"
  }
 },
 "nbformat": 4,
 "nbformat_minor": 4
}
