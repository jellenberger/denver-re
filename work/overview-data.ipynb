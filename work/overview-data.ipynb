{
 "cells": [
  {
   "cell_type": "code",
   "execution_count": 3,
   "metadata": {},
   "outputs": [],
   "source": [
    "%matplotlib inline\n",
    "%reload_ext autoreload\n",
    "%autoreload 2"
   ]
  },
  {
   "cell_type": "code",
   "execution_count": 8,
   "metadata": {},
   "outputs": [],
   "source": [
    "# import json\n",
    "# import requests\n",
    "from pathlib import Path\n",
    "\n",
    "import numpy as np\n",
    "import pandas as pd\n",
    "import matplotlib.pyplot as plt\n",
    "from sqlalchemy import create_engine"
   ]
  },
  {
   "cell_type": "code",
   "execution_count": 5,
   "metadata": {},
   "outputs": [],
   "source": [
    "pd.set_option('display.max_columns', 100)\n",
    "pd.set_option('display.max_rows', 100)"
   ]
  },
  {
   "cell_type": "code",
   "execution_count": 6,
   "metadata": {},
   "outputs": [
    {
     "name": "stdout",
     "output_type": "stream",
     "text": [
      "2019-12-30-real_property_parcels.csv\r\n",
      "2019-12-30-real_property_residential_characteristics.csv\r\n",
      "2019-12-30-real_property_sales_and_transfers.csv\r\n",
      "re-denver.sqlite3\r\n"
     ]
    }
   ],
   "source": [
    "dataroot = Path('../data').resolve()\n",
    "!ls {dataroot}"
   ]
  },
  {
   "cell_type": "code",
   "execution_count": 9,
   "metadata": {},
   "outputs": [],
   "source": [
    "dbeng = create_engine('sqlite:///' + str(dataroot / 're-denver.sqlite3'))"
   ]
  },
  {
   "cell_type": "markdown",
   "metadata": {},
   "source": [
    "# Sales"
   ]
  },
  {
   "cell_type": "code",
   "execution_count": 11,
   "metadata": {},
   "outputs": [
    {
     "data": {
      "text/plain": [
       "[(0, 'schednum', 'TEXT', 0, None, 0),\n",
       " (1, 'reception_num', 'TEXT', 0, None, 0),\n",
       " (2, 'instrument', 'TEXT', 0, None, 0),\n",
       " (3, 'sale_year', 'TEXT', 0, None, 0),\n",
       " (4, 'sale_monthday', 'TEXT', 0, None, 0),\n",
       " (5, 'reception_date', 'TEXT', 0, None, 0),\n",
       " (6, 'sale_price', 'INTEGER', 0, None, 0),\n",
       " (7, 'grantor', 'TEXT', 0, None, 0),\n",
       " (8, 'grantee', 'TEXT', 0, None, 0),\n",
       " (9, 'class', 'TEXT', 0, None, 0),\n",
       " (10, 'mkt_clus', 'TEXT', 0, None, 0),\n",
       " (11, 'd_class', 'TEXT', 0, None, 0),\n",
       " (12, 'd_class_cn', 'TEXT', 0, None, 0),\n",
       " (13, 'nbhd_1', 'TEXT', 0, None, 0),\n",
       " (14, 'nbhd_1_cn', 'TEXT', 0, None, 0),\n",
       " (15, 'pin', 'TEXT', 0, None, 0),\n",
       " (16, 'sale_date_', 'DATE', 0, None, 0),\n",
       " (17, 'reception_date_', 'DATE', 0, None, 0)]"
      ]
     },
     "execution_count": 11,
     "metadata": {},
     "output_type": "execute_result"
    }
   ],
   "source": [
    "dbeng.execute('pragma table_info(sales)').fetchall()"
   ]
  },
  {
   "cell_type": "code",
   "execution_count": null,
   "metadata": {},
   "outputs": [],
   "source": []
  },
  {
   "cell_type": "code",
   "execution_count": 13,
   "metadata": {},
   "outputs": [
    {
     "data": {
      "text/plain": [
       "[(0, 'pin', 'TEXT', 0, None, 0),\n",
       " (1, 'schednum', 'TEXT', 0, None, 0),\n",
       " (2, 'cd', 'TEXT', 0, None, 0),\n",
       " (3, 'ofcard', 'TEXT', 0, None, 0),\n",
       " (4, 'owner', 'TEXT', 0, None, 0),\n",
       " (5, 'co_owner', 'TEXT', 0, None, 0),\n",
       " (6, 'owner_num', 'TEXT', 0, None, 0),\n",
       " (7, 'owner_dir', 'TEXT', 0, None, 0),\n",
       " (8, 'owner_st', 'TEXT', 0, None, 0),\n",
       " (9, 'owner_type', 'TEXT', 0, None, 0),\n",
       " (10, 'owner_apt', 'TEXT', 0, None, 0),\n",
       " (11, 'owner_city', 'TEXT', 0, None, 0),\n",
       " (12, 'owner_state', 'TEXT', 0, None, 0),\n",
       " (13, 'owner_zip', 'TEXT', 0, None, 0),\n",
       " (14, 'site_nbr', 'TEXT', 0, None, 0),\n",
       " (15, 'site_dir', 'TEXT', 0, None, 0),\n",
       " (16, 'site_name', 'TEXT', 0, None, 0),\n",
       " (17, 'site_mode', 'TEXT', 0, None, 0),\n",
       " (18, 'site_more', 'TEXT', 0, None, 0),\n",
       " (19, 'tax_dist', 'TEXT', 0, None, 0),\n",
       " (20, 'prop_class', 'TEXT', 0, None, 0),\n",
       " (21, 'property_class', 'TEXT', 0, None, 0),\n",
       " (22, 'zone10', 'TEXT', 0, None, 0),\n",
       " (23, 'd_class_cn', 'TEXT', 0, None, 0),\n",
       " (24, 'land_sqft', 'INTEGER', 0, None, 0),\n",
       " (25, 'area_abg', 'INTEGER', 0, None, 0),\n",
       " (26, 'bsmt_area', 'INTEGER', 0, None, 0),\n",
       " (27, 'fbsmt_sqft', 'INTEGER', 0, None, 0),\n",
       " (28, 'grd_area', 'INTEGER', 0, None, 0),\n",
       " (29, 'story', 'INTEGER', 0, None, 0),\n",
       " (30, 'style_cn', 'TEXT', 0, None, 0),\n",
       " (31, 'bed_rms', 'INTEGER', 0, None, 0),\n",
       " (32, 'full_b', 'INTEGER', 0, None, 0),\n",
       " (33, 'hlf_b', 'INTEGER', 0, None, 0),\n",
       " (34, 'ccyrblt', 'INTEGER', 0, None, 0),\n",
       " (35, 'ccage_rm', 'INTEGER', 0, None, 0),\n",
       " (36, 'units', 'INTEGER', 0, None, 0),\n",
       " (37, 'asmt_appr_land', 'INTEGER', 0, None, 0),\n",
       " (38, 'total_value', 'INTEGER', 0, None, 0),\n",
       " (39, 'asdland', 'INTEGER', 0, None, 0),\n",
       " (40, 'assess_value', 'INTEGER', 0, None, 0),\n",
       " (41, 'asmt_taxable', 'INTEGER', 0, None, 0),\n",
       " (42, 'asmt_exempt_amt', 'INTEGER', 0, None, 0),\n",
       " (43, 'nbhd_1', 'INTEGER', 0, None, 0),\n",
       " (44, 'nbhd_1_cn', 'TEXT', 0, None, 0),\n",
       " (45, 'legl_description', 'TEXT', 0, None, 0)]"
      ]
     },
     "execution_count": 13,
     "metadata": {},
     "output_type": "execute_result"
    }
   ],
   "source": [
    "dbeng.execute('pragma table_info(chars)').fetchall()"
   ]
  },
  {
   "cell_type": "code",
   "execution_count": 14,
   "metadata": {},
   "outputs": [
    {
     "data": {
      "text/plain": [
       "[(0, 'pin', 'TEXT', 0, None, 0),\n",
       " (1, 'schednum', 'TEXT', 0, None, 0),\n",
       " (2, 'mapnum', 'TEXT', 0, None, 0),\n",
       " (3, 'blknum', 'TEXT', 0, None, 0),\n",
       " (4, 'parcelnum', 'TEXT', 0, None, 0),\n",
       " (5, 'appendage', 'TEXT', 0, None, 0),\n",
       " (6, 'parcel_source', 'TEXT', 0, None, 0),\n",
       " (7, 'system_start_date', 'TEXT', 0, None, 0),\n",
       " (8, 'owner_name', 'TEXT', 0, None, 0),\n",
       " (9, 'owner_address_line1', 'TEXT', 0, None, 0),\n",
       " (10, 'owner_address_line2', 'TEXT', 0, None, 0),\n",
       " (11, 'owner_addr_nbr_prefix', 'TEXT', 0, None, 0),\n",
       " (12, 'owner_addr_nbr', 'TEXT', 0, None, 0),\n",
       " (13, 'owner_addr_nbr_suffix', 'TEXT', 0, None, 0),\n",
       " (14, 'owner_str_name_pre_mod', 'TEXT', 0, None, 0),\n",
       " (15, 'owner_str_name_pre_dir', 'TEXT', 0, None, 0),\n",
       " (16, 'owner_str_name_pre_type', 'TEXT', 0, None, 0),\n",
       " (17, 'owner_str_name', 'TEXT', 0, None, 0),\n",
       " (18, 'owner_str_name_post_type', 'TEXT', 0, None, 0),\n",
       " (19, 'owner_str_name_post_dir', 'TEXT', 0, None, 0),\n",
       " (20, 'owner_str_name_post_mod', 'TEXT', 0, None, 0),\n",
       " (21, 'owner_unit_type', 'TEXT', 0, None, 0),\n",
       " (22, 'owner_unit_ident', 'TEXT', 0, None, 0),\n",
       " (23, 'owner_city', 'TEXT', 0, None, 0),\n",
       " (24, 'owner_state', 'TEXT', 0, None, 0),\n",
       " (25, 'owner_zip', 'TEXT', 0, None, 0),\n",
       " (26, 'situs_address_id', 'TEXT', 0, None, 0),\n",
       " (27, 'situs_address_line1', 'TEXT', 0, None, 0),\n",
       " (28, 'situs_address_line2', 'TEXT', 0, None, 0),\n",
       " (29, 'situs_city', 'TEXT', 0, None, 0),\n",
       " (30, 'situs_state', 'TEXT', 0, None, 0),\n",
       " (31, 'situs_zip', 'TEXT', 0, None, 0),\n",
       " (32, 'situs_addr_nbr', 'TEXT', 0, None, 0),\n",
       " (33, 'situs_addr_nbr_suffix', 'TEXT', 0, None, 0),\n",
       " (34, 'situs_str_name_pre_mod', 'TEXT', 0, None, 0),\n",
       " (35, 'situs_str_name_pre_dir', 'TEXT', 0, None, 0),\n",
       " (36, 'situs_str_name_pre_type', 'TEXT', 0, None, 0),\n",
       " (37, 'situs_str_name', 'TEXT', 0, None, 0),\n",
       " (38, 'situs_str_name_post_type', 'TEXT', 0, None, 0),\n",
       " (39, 'situs_str_name_post_dir', 'TEXT', 0, None, 0),\n",
       " (40, 'situs_str_name_post_mod', 'TEXT', 0, None, 0),\n",
       " (41, 'situs_unit_type', 'TEXT', 0, None, 0),\n",
       " (42, 'situs_unit_ident', 'TEXT', 0, None, 0),\n",
       " (43, 'tax_dist', 'TEXT', 0, None, 0),\n",
       " (44, 'land_value', 'TEXT', 0, None, 0),\n",
       " (45, 'improvement_value', 'TEXT', 0, None, 0),\n",
       " (46, 'improvements', 'TEXT', 0, None, 0),\n",
       " (47, 'prop_class', 'TEXT', 0, None, 0),\n",
       " (48, 'total_value', 'INTEGER', 0, None, 0),\n",
       " (49, 'land', 'INTEGER', 0, None, 0),\n",
       " (50, 'd_class', 'TEXT', 0, None, 0),\n",
       " (51, 'd_class_cn', 'TEXT', 0, None, 0),\n",
       " (52, 'dcl12', 'TEXT', 0, None, 0),\n",
       " (53, 'act_zone', 'TEXT', 0, None, 0),\n",
       " (54, 'imp_area', 'INTEGER', 0, None, 0),\n",
       " (55, 'ccyrblt', 'TEXT', 0, None, 0),\n",
       " (56, 'asal_instr', 'TEXT', 0, None, 0),\n",
       " (57, 'sale_monthday', 'TEXT', 0, None, 0),\n",
       " (58, 'sale_year', 'TEXT', 0, None, 0),\n",
       " (59, 'sale_price', 'INTEGER', 0, None, 0),\n",
       " (60, 'reception_num', 'TEXT', 0, None, 0),\n",
       " (61, 'sale_date_', 'DATE', 0, None, 0)]"
      ]
     },
     "execution_count": 14,
     "metadata": {},
     "output_type": "execute_result"
    }
   ],
   "source": [
    "dbeng.execute('pragma table_info(parcels)').fetchall()"
   ]
  },
  {
   "cell_type": "code",
   "execution_count": null,
   "metadata": {},
   "outputs": [],
   "source": []
  }
 ],
 "metadata": {
  "kernelspec": {
   "display_name": "Python 3",
   "language": "python",
   "name": "python3"
  },
  "language_info": {
   "codemirror_mode": {
    "name": "ipython",
    "version": 3
   },
   "file_extension": ".py",
   "mimetype": "text/x-python",
   "name": "python",
   "nbconvert_exporter": "python",
   "pygments_lexer": "ipython3",
   "version": "3.7.3"
  }
 },
 "nbformat": 4,
 "nbformat_minor": 4
}
